{
 "cells": [
  {
   "cell_type": "code",
   "execution_count": 4,
   "id": "1de4a406",
   "metadata": {},
   "outputs": [],
   "source": [
    "import numpy as np\n",
    "import matplotlib.pyplot as plt\n"
   ]
  },
  {
   "cell_type": "code",
   "execution_count": 5,
   "id": "d890d3d4",
   "metadata": {},
   "outputs": [],
   "source": [
    "\n",
    "x_linear_separable = np.loadtxt('/Users/yajiewang/Downloads/cse353hw3/Data/X_LinearSeparable.txt', delimiter=',')\n",
    "y_linear_separable = np.loadtxt('/Users/yajiewang/Downloads/cse353hw3/Data/Y_LinearSeparable.txt', delimiter=',')"
   ]
  },
  {
   "cell_type": "code",
   "execution_count": 6,
   "id": "d61563e8",
   "metadata": {},
   "outputs": [
    {
     "name": "stdout",
     "output_type": "stream",
     "text": [
      "[[1.   1.   1.   1.   1.   1.   1.   1.   1.   1.   1.   1.   1.   1.\n",
      "  1.   1.   1.   1.   1.   1.  ]\n",
      " [0.35 0.59 0.92 0.76 0.38 0.08 0.53 0.93 0.57 0.01 0.16 0.31 0.17 0.26\n",
      "  0.69 0.45 0.23 0.15 0.54 0.08]\n",
      " [0.83 0.55 0.29 0.75 0.57 0.05 0.78 0.13 0.47 0.34 0.79 0.53 0.6  0.65\n",
      "  0.75 0.08 0.91 0.83 1.   0.44]]\n",
      "[-1.  1.  1.  1. -1.  1. -1.  1.  1. -1. -1. -1. -1. -1. -1.  1. -1. -1.\n",
      " -1. -1.]\n"
     ]
    }
   ],
   "source": [
    "print(x_linear_separable)\n",
    "print(y_linear_separable)"
   ]
  },
  {
   "cell_type": "code",
   "execution_count": 7,
   "id": "091e9402",
   "metadata": {},
   "outputs": [],
   "source": [
    "#part 1\n",
    "def signFunction (cur):\n",
    "    if cur == 0:\n",
    "        return 0\n",
    "    elif cur > 0:\n",
    "        return 1\n",
    "    else:\n",
    "        return -1"
   ]
  },
  {
   "cell_type": "code",
   "execution_count": 8,
   "id": "5ed3608c",
   "metadata": {},
   "outputs": [],
   "source": [
    "\n",
    "\n",
    "w = np.zeros(3)\n",
    "t = 0;\n",
    "while t < len(y_linear_separable):\n",
    "    cur = np.zeros(3)\n",
    "    cur[0] = x_linear_separable[0][t]\n",
    "    cur[1] = x_linear_separable[1][t]\n",
    "    cur[2] = x_linear_separable[2][t]\n",
    "    if signFunction(np.dot(w.T, cur))  != y_linear_separable[t]:\n",
    "        w = w + y_linear_separable[t]* cur\n",
    "        t = -1\n",
    "    t+=1 \n",
    "    \n"
   ]
  },
  {
   "cell_type": "code",
   "execution_count": 9,
   "id": "33923ea5",
   "metadata": {},
   "outputs": [
    {
     "name": "stdout",
     "output_type": "stream",
     "text": [
      "0.0\n",
      "1.0660919540229885\n"
     ]
    },
    {
     "data": {
      "image/png": "[encoded data removed]",
      "text/plain": [
       "<Figure size 432x288 with 1 Axes>"
      ]
     },
     "metadata": {
      "needs_background": "light"
     },
     "output_type": "display_data"
    }
   ],
   "source": [
    "\n",
    "x1_one = []\n",
    "x2_one = []\n",
    "\n",
    "x1_neg_one = []\n",
    "x2_neg_one = []\n",
    "\n",
    "for t in range(len(y_linear_separable)):\n",
    "    if y_linear_separable[t] == 1:\n",
    "        x1_one.append(x_linear_separable[1][t])\n",
    "        x2_one.append(x_linear_separable[2][t])\n",
    "    else:\n",
    "        x1_neg_one.append(x_linear_separable[1][t])\n",
    "        x2_neg_one.append(x_linear_separable[2][t])\n",
    "\n",
    "plt.scatter(x1_one, x2_one, color='red')\n",
    "plt.scatter(x1_neg_one, x2_neg_one, color='blue')\n",
    "x2_of_x1_equals_0 = w[0]/ ((-1) * w[2])\n",
    "x2_of_x1_equals_1 = (w[0]+w[1])/((-1)*w[2])\n",
    "\n",
    "print(x2_of_x1_equals_0)\n",
    "print(x2_of_x1_equals_1)\n",
    "x = [0,1]\n",
    "y = [x2_of_x1_equals_0, x2_of_x1_equals_1]\n",
    "plt.plot(x,y)\n",
    "plt.show()"
   ]
  },
  {
   "cell_type": "code",
   "execution_count": 10,
   "id": "06105b16",
   "metadata": {},
   "outputs": [
    {
     "name": "stdout",
     "output_type": "stream",
     "text": [
      "Error rate: 0.0\n"
     ]
    }
   ],
   "source": [
    "ct = 0\n",
    "while t < len(y_linear_separable):\n",
    "    cur = np.zeros(3)\n",
    "    cur[0] = x_linear_separable[0][t]\n",
    "    cur[1] = x_linear_separable[1][t]\n",
    "    cur[2] = x_linear_separable[2][t]\n",
    "    if signFunction(np.dot(w.T, cur))  != y_linear_separable[t]:\n",
    "       ct+=1; \n",
    "    t+=1 \n",
    "\n",
    "print(\"Error rate:\", str(ct/len(y_linear_separable)))\n"
   ]
  },
  {
   "cell_type": "code",
   "execution_count": 16,
   "id": "8d070247",
   "metadata": {},
   "outputs": [
    {
     "name": "stdout",
     "output_type": "stream",
     "text": [
      "[[1.   1.   1.   1.   1.   1.   1.   1.   1.   1.   1.   1.   1.   1.\n",
      "  1.   1.   1.   1.   1.   1.  ]\n",
      " [0.35 0.59 0.92 0.76 0.38 0.08 0.53 0.93 0.57 0.01 0.16 0.31 0.17 0.26\n",
      "  0.69 0.45 0.23 0.15 0.54 0.08]\n",
      " [0.83 0.55 0.29 0.75 0.57 0.05 0.78 0.13 0.47 0.34 0.79 0.53 0.6  0.65\n",
      "  0.75 0.08 0.91 0.83 1.   0.44]]\n",
      "[ 1. -1.  1.  1. -1.  1. -1.  1.  1. -1. -1. -1. -1. -1. -1.  1. -1. -1.\n",
      " -1. -1.]\n"
     ]
    }
   ],
   "source": [
    "# part2\n",
    "x_nonlinear_separable = np.loadtxt('/Users/yajiewang/Downloads/cse353hw3/Data/X_NonLinearSeparable.txt', delimiter=',')\n",
    "y_nonlinear_separable = np.loadtxt('/Users/yajiewang/Downloads/cse353hw3/Data/Y_NonLinearSeparable.txt', delimiter=',')\n",
    "\n",
    "print(x_nonlinear_separable)\n",
    "print(y_nonlinear_separable)\n"
   ]
  },
  {
   "cell_type": "code",
   "execution_count": 17,
   "id": "7996b45a",
   "metadata": {},
   "outputs": [],
   "source": [
    "pocket_w = np.zeros(3)\n",
    "global_ct = len(y_nonlinear_separable)\n",
    "w = np.zeros(3)\n",
    "\n",
    "\n",
    "for iteration in range(1000):\n",
    "    t = 0;\n",
    "    while t < len(y_nonlinear_separable):\n",
    "        cur = np.zeros(3)\n",
    "        cur[0] = x_nonlinear_separable[0][t]\n",
    "        cur[1] = x_nonlinear_separable[1][t]\n",
    "        cur[2] = x_nonlinear_separable[2][t]\n",
    "        if signFunction(np.dot(w.T, cur))  != y_nonlinear_separable[t]:\n",
    "            w = w + y_nonlinear_separable[t]* cur\n",
    "            j = 0\n",
    "            ct = 0\n",
    "            while j < len(y_nonlinear_separable):\n",
    "                curr = np.zeros(3)\n",
    "                curr[0] = x_nonlinear_separable[0][j]\n",
    "                curr[1] = x_nonlinear_separable[1][j]\n",
    "                curr[2] = x_nonlinear_separable[2][j]\n",
    "                if signFunction(np.dot(w.T, curr))  != y_nonlinear_separable[j]:\n",
    "                   ct+=1\n",
    "                j+=1 \n",
    "            if ct < global_ct:\n",
    "                global_ct = ct\n",
    "                pocket_w = w\n",
    "                break\n",
    "        t+=1 "
   ]
  },
  {
   "cell_type": "code",
   "execution_count": 18,
   "id": "efb61bda",
   "metadata": {},
   "outputs": [
    {
     "name": "stdout",
     "output_type": "stream",
     "text": [
      "0.0\n",
      "0.9900000000000001\n",
      "-0.9200000000000003\n",
      "0.0\n",
      "1.076086956521739\n"
     ]
    },
    {
     "data": {
      "image/png": "[encoded data removed]",
      "text/plain": [
       "<Figure size 432x288 with 1 Axes>"
      ]
     },
     "metadata": {
      "needs_background": "light"
     },
     "output_type": "display_data"
    },
    {
     "name": "stdout",
     "output_type": "stream",
     "text": [
      "Error rate: 0.1\n",
      "2\n"
     ]
    }
   ],
   "source": [
    "x1_one = []\n",
    "x2_one = []\n",
    "\n",
    "x1_neg_one = []\n",
    "x2_neg_one = []\n",
    "\n",
    "for t in range(len(y_nonlinear_separable)):\n",
    "    if y_nonlinear_separable[t] == 1:\n",
    "        x1_one.append(x_nonlinear_separable[1][t])\n",
    "        x2_one.append(x_nonlinear_separable[2][t])\n",
    "    else:\n",
    "        x1_neg_one.append(x_nonlinear_separable[1][t])\n",
    "        x2_neg_one.append(x_nonlinear_separable[2][t])\n",
    "\n",
    "plt.scatter(x1_one, x2_one, color='red')\n",
    "plt.scatter(x1_neg_one, x2_neg_one, color='blue')\n",
    "x2_of_x1_equals_0 = pocket_w[0]/ ((-1) * pocket_w[2])\n",
    "x2_of_x1_equals_1 = (pocket_w[0]+pocket_w[1])/((-1)*pocket_w[2])\n",
    "print(pocket_w[0])\n",
    "print(pocket_w[1])\n",
    "print(pocket_w[2])\n",
    "print(x2_of_x1_equals_0)\n",
    "print(x2_of_x1_equals_1)\n",
    "x = [0,1]\n",
    "y = [x2_of_x1_equals_0, x2_of_x1_equals_1]\n",
    "plt.plot(x,y)\n",
    "plt.show()\n",
    "\n",
    "print(\"Error rate:\", str(global_ct/len(y_nonlinear_separable)))\n",
    "print(global_ct)"
   ]
  },
  {
   "cell_type": "code",
   "execution_count": 13,
   "id": "fda22ef3",
   "metadata": {},
   "outputs": [
    {
     "name": "stdout",
     "output_type": "stream",
     "text": [
      "[[ 1.      1.      1.     ...  1.      1.      1.    ]\n",
      " [ 0.123   0.1139  0.1154 ...  0.368   0.3553  0.2329]\n",
      " [-0.7079 -0.9314 -0.386  ... -5.66   -4.6828 -4.4238]]\n",
      "[ 1.  1.  1. ... -1. -1. -1.]\n"
     ]
    }
   ],
   "source": [
    "# part3\n",
    "x_handcrafted_training = np.loadtxt(r'/Users/gankowen/CSE 353/HW3/Data 2/X_Digits_HandcraftedFeature_Train.txt', delimiter = ',')\n",
    "y_handcrafted_training = np.loadtxt(r'/Users/gankowen/CSE 353/HW3/Data 2/Y_Digits_HandcraftedFeature_Train.txt', delimiter = ',')\n",
    "\n",
    "print(x_handcrafted_training)\n",
    "print(y_handcrafted_training)\n"
   ]
  },
  {
   "cell_type": "code",
   "execution_count": 14,
   "id": "39a1d799",
   "metadata": {},
   "outputs": [],
   "source": [
    "pocket_w = np.zeros(3)\n",
    "global_ct = len(y_handcrafted_training)\n",
    "w = np.zeros(3)\n",
    "\n",
    "\n",
    "for iteration in range(1000):\n",
    "    t = 0;\n",
    "    while t < len(y_handcrafted_training):\n",
    "        cur = np.zeros(3)\n",
    "        cur[0] = x_handcrafted_training[0][t]\n",
    "        cur[1] = x_handcrafted_training[1][t]\n",
    "        cur[2] = x_handcrafted_training[2][t]\n",
    "        if signFunction(np.dot(w.T, cur))  != y_handcrafted_training[t]:\n",
    "            w = w + y_handcrafted_training[t]* cur\n",
    "            j = 0\n",
    "            ct = 0\n",
    "            while j < len(y_handcrafted_training):\n",
    "                curr = np.zeros(3)\n",
    "                curr[0] = x_handcrafted_training[0][j]\n",
    "                curr[1] = x_handcrafted_training[1][j]\n",
    "                curr[2] = x_handcrafted_training[2][j]\n",
    "                if signFunction(np.dot(w.T, curr))  != y_handcrafted_training[j]:\n",
    "                   ct+=1\n",
    "                j+=1 \n",
    "            if ct < global_ct:\n",
    "                global_ct = ct\n",
    "                pocket_w = w\n",
    "                break\n",
    "        t+=1 "
   ]
  },
  {
   "cell_type": "code",
   "execution_count": 16,
   "id": "f4c818bb",
   "metadata": {},
   "outputs": [
    {
     "name": "stdout",
     "output_type": "stream",
     "text": [
      "0.0032030749519538757\n",
      "1561\n"
     ]
    }
   ],
   "source": [
    "print(global_ct/len(y_handcrafted_training)) \n",
    "print(len(y_handcrafted_training))"
   ]
  },
  {
   "cell_type": "code",
   "execution_count": 33,
   "id": "f536f5f6",
   "metadata": {},
   "outputs": [
    {
     "name": "stdout",
     "output_type": "stream",
     "text": [
      "-2.483289530865199\n",
      "-1.8423111147900415\n"
     ]
    },
    {
     "data": {
      "image/png": "[encoded data removed]",
      "text/plain": [
       "<Figure size 432x288 with 1 Axes>"
      ]
     },
     "metadata": {
      "needs_background": "light"
     },
     "output_type": "display_data"
    },
    {
     "name": "stdout",
     "output_type": "stream",
     "text": [
      "Error rate: 0.0032030749519538757\n"
     ]
    }
   ],
   "source": [
    "x1_one = []\n",
    "x2_one = []\n",
    "\n",
    "x1_neg_one = []\n",
    "x2_neg_one = []\n",
    "\n",
    "for t in range(len(y_handcrafted_training)):\n",
    "    if y_handcrafted_training[t] == 1:\n",
    "        x1_one.append(x_handcrafted_training[1][t])\n",
    "        x2_one.append(x_handcrafted_training[2][t])\n",
    "    else:\n",
    "        x1_neg_one.append(x_handcrafted_training[1][t])\n",
    "        x2_neg_one.append(x_handcrafted_training[2][t])\n",
    "\n",
    "plt.scatter(x1_one, x2_one, color='red')\n",
    "plt.scatter(x1_neg_one, x2_neg_one, color='blue')\n",
    "x2_of_x1_equals_0 = pocket_w[0]/ ((-1) * pocket_w[2])\n",
    "x2_of_x1_equals_1 = (pocket_w[0]+pocket_w[1])/((-1)*pocket_w[2])\n",
    "\n",
    "\n",
    "x = [0,1]\n",
    "y = [x2_of_x1_equals_0, x2_of_x1_equals_1]\n",
    "plt.plot(x,y)\n",
    "plt.show()\n",
    "\n",
    "print(\"Error rate:\", str(global_ct/len(y_handcrafted_training)))"
   ]
  },
  {
   "cell_type": "code",
   "execution_count": 34,
   "id": "dd9e44c8",
   "metadata": {},
   "outputs": [],
   "source": [
    "x_handcrafted_testing = np.loadtxt(r'/Users/gankowen/CSE 353/HW3/Data 2/X_Digits_HandcraftedFeature_Test.txt', delimiter = ',')\n",
    "y_handcrafted_testing = np.loadtxt(r'/Users/gankowen/CSE 353/HW3/Data 2/Y_Digits_HandcraftedFeature_Test.txt', delimiter = ',')\n"
   ]
  },
  {
   "cell_type": "code",
   "execution_count": 35,
   "id": "2e1a7afd",
   "metadata": {},
   "outputs": [
    {
     "name": "stdout",
     "output_type": "stream",
     "text": [
      "-2.483289530865199\n",
      "-1.8423111147900415\n"
     ]
    },
    {
     "data": {
      "image/png": "[encoded data removed]",
      "text/plain": [
       "<Figure size 432x288 with 1 Axes>"
      ]
     },
     "metadata": {
      "needs_background": "light"
     },
     "output_type": "display_data"
    },
    {
     "name": "stdout",
     "output_type": "stream",
     "text": [
      "Error rate: 0.01179245283018868\n"
     ]
    }
   ],
   "source": [
    "x1_one = []\n",
    "x2_one = []\n",
    "\n",
    "x1_neg_one = []\n",
    "x2_neg_one = []\n",
    "\n",
    "for t in range(len(y_handcrafted_testing)):\n",
    "    if y_handcrafted_testing[t] == 1:\n",
    "        x1_one.append(x_handcrafted_testing[1][t])\n",
    "        x2_one.append(x_handcrafted_testing[2][t])\n",
    "    else:\n",
    "        x1_neg_one.append(x_handcrafted_testing[1][t])\n",
    "        x2_neg_one.append(x_handcrafted_testing[2][t])\n",
    "\n",
    "plt.scatter(x1_one, x2_one, color='red')\n",
    "plt.scatter(x1_neg_one, x2_neg_one, color='blue')\n",
    "x2_of_x1_equals_0 = pocket_w[0]/ ((-1) * pocket_w[2])\n",
    "x2_of_x1_equals_1 = (pocket_w[0]+pocket_w[1])/((-1)*pocket_w[2])\n",
    "\n",
    "\n",
    "x = [0,1]\n",
    "y = [x2_of_x1_equals_0, x2_of_x1_equals_1]\n",
    "plt.plot(x,y)\n",
    "plt.show()\n",
    "\n",
    "print(\"Error rate:\", str(global_ct/len(y_handcrafted_testing)))"
   ]
  },
  {
   "cell_type": "code",
   "execution_count": 3,
   "id": "41b10bc5",
   "metadata": {},
   "outputs": [],
   "source": [
    "#part4\n",
    "x_rawFeature_training = np.loadtxt(r'/Users/gankowen/CSE 353/HW3/Data 2/X_Digits_RawFeature_Train.txt', delimiter = ',')\n",
    "y_rawFeature_training = np.loadtxt(r'/Users/gankowen/CSE 353/HW3/Data 2/Y_Digits_RawFeature_Train.txt', delimiter = ',')\n",
    "\n",
    "x_rawFeature_testing = np.loadtxt(r'/Users/gankowen/CSE 353/HW3/Data 2/X_Digits_RawFeature_Test.txt', delimiter = ',')\n",
    "y_rawFeature_testing = np.loadtxt(r'/Users/gankowen/CSE 353/HW3/Data 2/Y_Digits_RawFeature_Test.txt', delimiter = ',')\n"
   ]
  },
  {
   "cell_type": "code",
   "execution_count": 17,
   "id": "8b0e4b5e",
   "metadata": {},
   "outputs": [
    {
     "name": "stdout",
     "output_type": "stream",
     "text": [
      "0.0\n"
     ]
    }
   ],
   "source": [
    "pocket_w = np.zeros(len(x_rawFeature_training))\n",
    "global_ct = len(y_rawFeature_training)\n",
    "w = np.zeros(len(x_rawFeature_training))\n",
    "#mylist = list(range(len(y_rawFeature_training)))\n",
    "\n",
    "#for i in range(len(pocket_w)):\n",
    "#    pocket_w[i] = 1\n",
    "\n",
    "for iteration in range(100):\n",
    "    t = 0;\n",
    "    while t < len(y_rawFeature_training):\n",
    "        cur = np.zeros(len(x_rawFeature_training))\n",
    "        for i in range(len(x_rawFeature_training)):\n",
    "            cur[i] = x_rawFeature_training[i][t]\n",
    "        if signFunction(np.dot(w.T, cur))  != y_rawFeature_training[t]:\n",
    "            w = w + y_rawFeature_training[t]* cur\n",
    "            j = 0\n",
    "            ct = 0\n",
    "            while j < len(y_rawFeature_training):\n",
    "                curr = np.zeros(len(x_rawFeature_training))\n",
    "                for i in range(len(x_rawFeature_training)):\n",
    "                    curr[i] = x_rawFeature_training[i][j]\n",
    "                if signFunction(np.dot(w, curr))  != y_rawFeature_training[j]:\n",
    "                   ct+=1\n",
    "                j+=1 \n",
    "            if ct < global_ct:\n",
    "                global_ct = ct\n",
    "                pocket_w = w\n",
    "                #print(str(global_ct) + \" at iteration \" + str(iteration))\n",
    "            break\n",
    "        t+=1 \n",
    "        \n",
    "print(global_ct/len(y_rawFeature_training))"
   ]
  },
  {
   "cell_type": "code",
   "execution_count": 11,
   "id": "c2dac3f1",
   "metadata": {},
   "outputs": [
    {
     "name": "stdout",
     "output_type": "stream",
     "text": [
      "4\n",
      "Error rate: 0.009433962264150943\n"
     ]
    }
   ],
   "source": [
    "\n",
    "ct = 0\n",
    "t = 0\n",
    "while t < len(y_rawFeature_testing):\n",
    "    cur = np.zeros(len(x_rawFeature_testing))\n",
    "    for i in range(len(x_rawFeature_testing)):\n",
    "        cur[i] = x_rawFeature_testing[i][t]\n",
    "    if signFunction(np.dot(pocket_w.T, cur))  != y_rawFeature_testing[t]:\n",
    "       ct+=1; \n",
    "    t+=1 \n",
    "print(ct)\n",
    "print(\"Error rate:\", str(ct/len(y_rawFeature_testing)))\n"
   ]
  },
  {
   "cell_type": "code",
   "execution_count": 42,
   "id": "5d3f34bd",
   "metadata": {},
   "outputs": [
    {
     "name": "stdout",
     "output_type": "stream",
     "text": [
      "0\n"
     ]
    }
   ],
   "source": []
  },
  {
   "cell_type": "code",
   "execution_count": null,
   "id": "ea34e35a",
   "metadata": {},
   "outputs": [],
   "source": []
  }
 ],
 "metadata": {
  "kernelspec": {
   "display_name": "Python 3",
   "language": "python",
   "name": "python3"
  },
  "language_info": {
   "codemirror_mode": {
    "name": "ipython",
    "version": 3
   },
   "file_extension": ".py",
   "mimetype": "text/x-python",
   "name": "python",
   "nbconvert_exporter": "python",
   "pygments_lexer": "ipython3",
   "version": "3.8.8"
  }
 },
 "nbformat": 4,
 "nbformat_minor": 5
}
