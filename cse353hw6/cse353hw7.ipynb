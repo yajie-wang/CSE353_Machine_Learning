{
 "cells": [
  {
   "cell_type": "code",
   "execution_count": 1,
   "id": "4498c9dd",
   "metadata": {},
   "outputs": [],
   "source": [
    "### CSE353 HW 7 \n",
    "### Yajie Wang\n",
    "import numpy as np\n",
    "import matplotlib.pyplot as plt\n",
    "from qpsolvers import solve_qp\n",
    "\n",
    "\n",
    "# load the dataset\n",
    "x = np.loadtxt('/Users/yajiewang/Downloads/cse353hw7/X_LinearSeparable.txt', delimiter=',').T\n",
    "y = np.loadtxt('/Users/yajiewang/Downloads/cse353hw7/Y_LinearSeparable.txt', delimiter=',')\n"
   ]
  },
  {
   "cell_type": "code",
   "execution_count": 2,
   "id": "78f6c129",
   "metadata": {},
   "outputs": [
    {
     "name": "stdout",
     "output_type": "stream",
     "text": [
      "[  0.10204082  28.57142857 -27.75510204]\n"
     ]
    }
   ],
   "source": [
    "# find (w,b)\n",
    "phi = np.zeros(3).T\n",
    "H = np.identity(3)\n",
    "A = np.zeros(40).reshape((-1,2))\n",
    "for i in range(x.shape[0]):\n",
    "    A[i]=np.dot(-y[i],x[i].T)\n",
    "C = -np.ones(x.shape[0])\n",
    "A = np.c_[-y,A]\n",
    "q = solve_qp(H,phi,A,C)\n",
    "print(q)"
   ]
  },
  {
   "cell_type": "code",
   "execution_count": 3,
   "id": "4e17c076",
   "metadata": {},
   "outputs": [
    {
     "name": "stdout",
     "output_type": "stream",
     "text": [
      "[(0.76, 0.75), (0.08, 0.05), (0.69, 0.75)]\n"
     ]
    }
   ],
   "source": [
    "# find support vectors\n",
    "svs = []\n",
    "for i in range(x.shape[0]):\n",
    "    cur = y[i]*(q[1] * x[i][0] + q[2] * x[i][1] + q[0])\n",
    "    if cur >= 0.95 and cur <= 1.05:\n",
    "        svs.append((x[i][0],x[i][1]))\n",
    "\n",
    "print(svs);"
   ]
  },
  {
   "cell_type": "code",
   "execution_count": 4,
   "id": "afa1ada2",
   "metadata": {},
   "outputs": [
    {
     "data": {
      "image/png": "[encoded data removed]",
      "text/plain": [
       "<Figure size 432x288 with 1 Axes>"
      ]
     },
     "metadata": {
      "needs_background": "light"
     },
     "output_type": "display_data"
    }
   ],
   "source": [
    "# plot\n",
    "p1 = [0,(-q[1]*0-q[0])/q[2]]\n",
    "p2 = [1,(-q[1]*1-q[0])/q[2]]\n",
    "x_values = [p1[0],p2[0]]\n",
    "y_values = [p1[1],p2[1]]\n",
    "plt.plot(x_values,y_values,'blue')\n",
    "\n",
    "a1 = []\n",
    "b1 = []\n",
    "a2 = []\n",
    "b2 = []\n",
    "s1 = []\n",
    "s2 = []\n",
    "for i in range(x.shape[0]):\n",
    "    if (y[i] == 1):\n",
    "        a1.append(x[i][0])\n",
    "        b1.append(x[i][1])\n",
    "    else:\n",
    "        a2.append(x[i][0])\n",
    "        b2.append(x[i][1])\n",
    "    \n",
    "for i in range(len(svs)):\n",
    "    s1.append(svs[i][0])\n",
    "    s2.append(svs[i][1])\n",
    "    \n",
    "\n",
    "      \n",
    "plt.scatter(a1,b1,marker = 'd',color = 'purple')\n",
    "plt.scatter(a2,b2,marker = 's',color = 'black')\n",
    "\n",
    "plt.scatter(s1,s2,marker = 'o',color = 'red')\n",
    "\n",
    "p1 = [0, (-q[1]*0-(q[0]+1))/q[2]]\n",
    "p2 = [1, (-q[1]*1-(q[0]+1))/q[2]]\n",
    "x_values = [p1[0], p2[0]]\n",
    "y_values = [p1[1], p2[1]]\n",
    "plt.plot(x_values,y_values,'green')\n",
    "\n",
    "p1 = [0, (-q[1]*0-(q[0]-1))/q[2]]\n",
    "p2 = [1, (-q[1]*1-(q[0]-1))/q[2]]\n",
    "x_values = [p1[0], p2[0]]\n",
    "y_values = [p1[1], p2[1]]\n",
    "plt.plot(x_values,y_values,'green')\n",
    "\n",
    "plt.title('SVM')\n",
    "plt.show()"
   ]
  },
  {
   "cell_type": "code",
   "execution_count": null,
   "id": "dea71665",
   "metadata": {},
   "outputs": [],
   "source": []
  }
 ],
 "metadata": {
  "kernelspec": {
   "display_name": "Python 3",
   "language": "python",
   "name": "python3"
  },
  "language_info": {
   "codemirror_mode": {
    "name": "ipython",
    "version": 3
   },
   "file_extension": ".py",
   "mimetype": "text/x-python",
   "name": "python",
   "nbconvert_exporter": "python",
   "pygments_lexer": "ipython3",
   "version": "3.8.8"
  }
 },
 "nbformat": 4,
 "nbformat_minor": 5
}
